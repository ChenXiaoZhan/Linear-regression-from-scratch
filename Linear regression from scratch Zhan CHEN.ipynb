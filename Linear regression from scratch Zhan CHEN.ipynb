{
 "cells": [
  {
   "cell_type": "markdown",
   "metadata": {},
   "source": [
    "### Lab1 Linear regression from sractch\n",
    "\n",
    "Abderrhamane ADDA and Zhan CHEN"
   ]
  },
  {
   "cell_type": "markdown",
   "metadata": {},
   "source": [
    "There are 3 parts in this notebook. \n",
    "At the first time, we implement linear regression from scratch. \n",
    "Secondly, we prepare the data set for machine learning(feature engineering).\n",
    "And lastly, we use the prepared dataset for machine learning using respectivly linear regression from scratch, sklearn library, and normal equation."
   ]
  },
  {
   "cell_type": "markdown",
   "metadata": {},
   "source": [
    "#### Part 1 : implementation of linear regression from scratch"
   ]
  },
  {
   "cell_type": "code",
   "execution_count": 62,
   "metadata": {},
   "outputs": [],
   "source": [
    "import numpy as np\n",
    "\n",
    "def costFunction(X, y, theta):\n",
    "\n",
    "    m = len(y)\n",
    "    return 1/(2*m) * np.sum((np.dot(X, theta) - y)**2)\n",
    "\n",
    "def gradientDescent(X, y, theta, alpha, num_iters):\n",
    "    m = y.shape[0]\n",
    "\n",
    "    J_history = np.zeros((num_iters, 1))\n",
    "    for iter in range(num_iters):\n",
    "        \n",
    "        theta = theta - (alpha/m) * (X.T.dot(X.dot(theta) - y))\n",
    "        J_history[iter] = costFunction(X, y, theta)\n",
    "    return J_history,theta\n",
    "\n",
    "def normalizeFeatures(X):\n",
    "    X_norm = X;\n",
    "    mu = np.zeros((1,X.shape[1]))\n",
    "    sigma = np.zeros((1,X.shape[1]))\n",
    "    for i in range(X.shape[1]):\n",
    "        mu[0,i] = np.mean(X[:,i]) # mean\n",
    "        sigma[0,i] = np.std(X[:,i]) # std\n",
    "\n",
    "    X_norm  = (X - mu) / sigma\n",
    "    return X_norm\n",
    "\n",
    "def r2(prediction, y_test):\n",
    "    sst = np.sum((y_test-y_test.mean())**2)\n",
    "    ssr = np.sum((prediction-y_test)**2)\n",
    "    r2 = 1-(ssr/sst)\n",
    "    return r2\n",
    "\n",
    "def mse(prediction, y):\n",
    "    return np.square(prediction-y).mean()\n",
    "\n",
    "def rmse(prediction, y):\n",
    "    return np.sqrt(mse(prediction, y))\n",
    "\n",
    "def predict(weights, x_test):\n",
    "    y_preds = np.dot(weights.T,x_test.T)\n",
    "    return y_preds"
   ]
  },
  {
   "cell_type": "markdown",
   "metadata": {},
   "source": [
    "#### Part 2 : dataset preparation"
   ]
  },
  {
   "cell_type": "code",
   "execution_count": 63,
   "metadata": {},
   "outputs": [],
   "source": [
    "import pandas as pd\n",
    "import numpy as np\n",
    "df = pd.read_csv('Bike Rental UCI dataset.csv')"
   ]
  },
  {
   "cell_type": "code",
   "execution_count": 64,
   "metadata": {},
   "outputs": [],
   "source": [
    "#convert dayOfWeek to categorical values\n",
    "dayofweek_in_number = {'Mon':1, 'Tue':2, 'Wed':3, 'Thr':4, 'Fri':5, 'Sat':6,'Sun':7}\n",
    "df['dayOfWeek'] = df.dayOfWeek.apply(lambda x: dayofweek_in_number[x])"
   ]
  },
  {
   "cell_type": "markdown",
   "metadata": {},
   "source": [
    "Values in 'season','yr','mnth','hr','holiday','workingday','weathersit','dayOfWeek' variables are categorical\n",
    "We need to apply get_dummies method to them"
   ]
  },
  {
   "cell_type": "code",
   "execution_count": 65,
   "metadata": {},
   "outputs": [],
   "source": [
    "#one hot encoding\n",
    "cat_feautres = ['season','yr','mnth','hr','holiday','workingday','weathersit','dayOfWeek']\n",
    "\n",
    "for feature in cat_feautres:\n",
    "    df =pd.get_dummies(df, columns=[feature])\n"
   ]
  },
  {
   "cell_type": "code",
   "execution_count": 66,
   "metadata": {},
   "outputs": [
    {
     "name": "stdout",
     "output_type": "stream",
     "text": [
      "train (13903, 62)\n",
      "test (3476, 62)\n"
     ]
    }
   ],
   "source": [
    "#shuffle the dataset\n",
    "df = df.reindex(np.random.permutation(df.index))\n",
    "\n",
    "import math\n",
    "#we'll make 80% of our rows as train data, and the rest test data.\n",
    "train_max_row = math.floor(df.shape[0] * .8)\n",
    "train = df.iloc[:train_max_row]\n",
    "test = df.iloc[train_max_row:]\n",
    "\n",
    "\n",
    "print('train',train.shape)\n",
    "print('test',test.shape)"
   ]
  },
  {
   "cell_type": "code",
   "execution_count": 67,
   "metadata": {},
   "outputs": [
    {
     "name": "stdout",
     "output_type": "stream",
     "text": [
      "['temp', 'hum', 'windspeed', 'season_1', 'season_2', 'season_3', 'season_4', 'yr_0', 'yr_1', 'mnth_1', 'mnth_2', 'mnth_3', 'mnth_4', 'mnth_5', 'mnth_6', 'mnth_7', 'mnth_8', 'mnth_9', 'mnth_10', 'mnth_11', 'mnth_12', 'hr_0', 'hr_1', 'hr_2', 'hr_3', 'hr_4', 'hr_5', 'hr_6', 'hr_7', 'hr_8', 'hr_9', 'hr_10', 'hr_11', 'hr_12', 'hr_13', 'hr_14', 'hr_15', 'hr_16', 'hr_17', 'hr_18', 'hr_19', 'hr_20', 'hr_21', 'hr_22', 'hr_23', 'holiday_0', 'holiday_1', 'workingday_0', 'workingday_1', 'weathersit_1', 'weathersit_2', 'weathersit_3', 'weathersit_4', 'dayOfWeek_1', 'dayOfWeek_2', 'dayOfWeek_3', 'dayOfWeek_4', 'dayOfWeek_5', 'dayOfWeek_6', 'dayOfWeek_7']\n",
      "60\n"
     ]
    }
   ],
   "source": [
    "features = list(df.columns)  #take all columns\n",
    "features.remove('demand') #then remove demand columns, which is the target\n",
    "features.remove('days') #we should also remove days\n",
    "print(features)  #print features to check if they are right\n",
    "print(len(features))"
   ]
  },
  {
   "cell_type": "markdown",
   "metadata": {},
   "source": [
    "now that the dataset is ready, we can do machine learning"
   ]
  },
  {
   "cell_type": "markdown",
   "metadata": {},
   "source": [
    "#### Part 3 : Machine learning"
   ]
  },
  {
   "cell_type": "markdown",
   "metadata": {},
   "source": [
    "##### 3.1 Using linear regression from scratch"
   ]
  },
  {
   "cell_type": "code",
   "execution_count": 68,
   "metadata": {},
   "outputs": [
    {
     "name": "stdout",
     "output_type": "stream",
     "text": [
      "r2_train = 67.38848863118602 %\n",
      "r2_test = 67.32280298102734 %\n",
      "\n",
      "\n",
      "mse_train = 10735.836844016607\n",
      "mse_test =  10722.451407282691\n",
      "\n",
      "\n",
      "rmse_train =  103.61388345205775\n",
      "rmse_test = 103.54927043336757\n"
     ]
    },
    {
     "data": {
      "text/plain": [
       "Text(0.5, 0, 'number of iterations')"
      ]
     },
     "execution_count": 68,
     "metadata": {},
     "output_type": "execute_result"
    },
    {
     "data": {
      "image/png": "[encoded data removed]",
      "text/plain": [
       "<Figure size 432x288 with 1 Axes>"
      ]
     },
     "metadata": {
      "needs_background": "light"
     },
     "output_type": "display_data"
    }
   ],
   "source": [
    "w = np.random.randn(len(features), 1) #initial weights\n",
    "\n",
    "\n",
    "y_train_values = train['demand'].values\n",
    "y_train = y_train_values.reshape(-1,1)\n",
    "\n",
    "\n",
    "y_test_values = test['demand'].values\n",
    "y_test = y_test_values.reshape(-1,1)\n",
    "\n",
    "\n",
    "j = costFunction(train[features],y_train,w)\n",
    "\n",
    "\n",
    "iteration = 1500\n",
    "learning_rate = 0.03\n",
    "J_history,weights = gradientDescent(train[features],y_train,w, alpha=learning_rate, num_iters=iteration)\n",
    "\n",
    "\n",
    "predictions_train_set = predict(weights,train[features].values) \n",
    "predictions_test_set = predict(weights,test[features].values)\n",
    "\n",
    "\n",
    "print('r2_train =',r2(predictions_train_set,train['demand'].values)*100,'%')\n",
    "print('r2_test =',r2(predictions_test_set,test['demand'].values)*100,'%')\n",
    "\n",
    "print('\\n')\n",
    "\n",
    "print('mse_train =', mse(predictions_train_set,train['demand'].values))\n",
    "print('mse_test = ',mse(predictions_test_set,test['demand'].values))\n",
    "\n",
    "print('\\n')\n",
    "\n",
    "print('rmse_train = ',rmse(predictions_train_set,train['demand'].values))\n",
    "print('rmse_test =', rmse(predictions_test_set,test['demand'].values))\n",
    "\n",
    "\n",
    "\n",
    "import matplotlib.pyplot as plt\n",
    "iterations = range(iteration)\n",
    "plt.plot(J_history.flatten(),iterations)\n",
    "plt.ylabel('J_history')\n",
    "plt.xlabel('number of iterations')\n"
   ]
  },
  {
   "cell_type": "markdown",
   "metadata": {},
   "source": [
    "##### 3.2 using sklearn"
   ]
  },
  {
   "cell_type": "code",
   "execution_count": 69,
   "metadata": {},
   "outputs": [
    {
     "name": "stdout",
     "output_type": "stream",
     "text": [
      "r2_train = 68.60739066822096 %\n",
      "r2_test = 68.44293472654812 %\n",
      "\n",
      "\n",
      "mse_train = 10334.569535352082\n",
      "mse_test =  10354.899741081703\n",
      "\n",
      "\n",
      "rmse_train =  101.6590848638334\n",
      "rmse_test = 101.75902781120554\n"
     ]
    }
   ],
   "source": [
    "\n",
    "from sklearn.linear_model import LinearRegression\n",
    "\n",
    "\n",
    "#now we can use linear regression\n",
    "lr = LinearRegression(normalize=True)\n",
    "\n",
    "\n",
    "lr.fit(train[features], train['demand'])\n",
    "\n",
    "accuracy_train = lr.score(train[features],train['demand'])\n",
    "print('r2_train =',accuracy_train*100,'%')\n",
    "\n",
    "accuracy_test = lr.score(test[features],test['demand'])\n",
    "print('r2_test =',accuracy_test*100,'%')\n",
    "print('\\n')\n",
    "\n",
    "from sklearn.metrics import mean_squared_error\n",
    "\n",
    "train_predictions = lr.predict(train[features])\n",
    "test_predictions = lr.predict(test[features])\n",
    "\n",
    "train_mse = mean_squared_error(train_predictions, train['demand'])\n",
    "test_mse = mean_squared_error(test_predictions, test['demand'])\n",
    "\n",
    "train_rmse = np.sqrt(train_mse)\n",
    "test_rmse = np.sqrt(test_mse)\n",
    "\n",
    "\n",
    "print('mse_train =', train_mse)\n",
    "print('mse_test = ', test_mse )\n",
    "\n",
    "print('\\n')\n",
    "\n",
    "print('rmse_train = ',train_rmse)\n",
    "print('rmse_test =', test_rmse)\n"
   ]
  },
  {
   "cell_type": "markdown",
   "metadata": {},
   "source": [
    "##### 3.3 using normal equation"
   ]
  },
  {
   "cell_type": "code",
   "execution_count": 70,
   "metadata": {},
   "outputs": [
    {
     "name": "stdout",
     "output_type": "stream",
     "text": [
      "r2 = 68.60413494698592 % \n",
      "\n",
      "mse = 10329.103950602952 \n",
      "\n",
      "rmse = 101.63219937895151\n"
     ]
    }
   ],
   "source": [
    "#with normal equation, there is no overfitting problem, so we can use the whole dataset \n",
    "\n",
    "X = df[features].values\n",
    "Y = df['demand'].values\n",
    "\n",
    "from scipy import linalg\n",
    "\n",
    "step1 = np.dot(X.T, X)\n",
    "step2 = np.linalg.pinv(step1)\n",
    "step3 = np.dot(step2, X.T)\n",
    "theta = np.dot(step3, Y)\n",
    "\n",
    "predictions_normal_equation = predict(theta,df[features].values)\n",
    "\n",
    "print('r2 =',r2(predictions_normal_equation,Y)*100,'%','\\n')\n",
    "\n",
    "print('mse =',mse(predictions_normal_equation,Y),'\\n')\n",
    "\n",
    "print('rmse =',rmse(predictions_normal_equation,Y))"
   ]
  },
  {
   "cell_type": "markdown",
   "metadata": {},
   "source": [
    "Conclusion : with all the 3 methods, we obtained similar R2, MSE and RMSE, which implies that the linear regression for scratch and the normal equation are well implemented"
   ]
  }
 ],
 "metadata": {
  "kernelspec": {
   "display_name": "Python 3",
   "language": "python",
   "name": "python3"
  },
  "language_info": {
   "codemirror_mode": {
    "name": "ipython",
    "version": 3
   },
   "file_extension": ".py",
   "mimetype": "text/x-python",
   "name": "python",
   "nbconvert_exporter": "python",
   "pygments_lexer": "ipython3",
   "version": "3.7.4"
  }
 },
 "nbformat": 4,
 "nbformat_minor": 2
}
